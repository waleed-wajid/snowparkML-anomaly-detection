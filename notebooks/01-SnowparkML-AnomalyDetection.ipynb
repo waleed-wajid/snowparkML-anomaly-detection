{
 "cells": [
  {
   "cell_type": "markdown",
   "metadata": {},
   "source": [
    "# Anomaly Detection using Isolation Forests in SnowparkML\n",
    "\n",
    "This notebook shows how the Isolation Forest model from the SnowparkML python library can be used to detect anomalies on some sample data. \n",
    "\n",
    "The notebook is divided into 3 parts:\n",
    "1. Sample data generation and upload to SF\n",
    "2. Model training\n",
    "3. Saving the model to the Snowpark ML registry"
   ]
  },
  {
   "cell_type": "code",
   "execution_count": 4,
   "metadata": {},
   "outputs": [],
   "source": [
    "import pandas as pd\n",
    "import numpy as np\n",
    "import json\n",
    "from snowflake.snowpark import Session\n",
    "from snowflake.snowpark.version import VERSION\n",
    "from snowflake.ml._internal.utils import identifier\n",
    "from snowflake.ml.registry import registry\n",
    "import joblib"
   ]
  },
  {
   "cell_type": "code",
   "execution_count": 5,
   "metadata": {},
   "outputs": [
    {
     "name": "stdout",
     "output_type": "stream",
     "text": [
      "Initiating login request with your identity provider. A browser window should have opened for you to complete the login. If you can't see it, check existing browser windows, or your OS settings. Press CTRL+C to abort and try again...\n",
      "Going to open: https://login.microsoftonline.com/fd21b7ac-6a50-45ae-99ea-568c8161f6d0/saml2?SAMLRequest=nZJNc9owEIb%2Fikc9%2BzN8aoAMBULoUEoCpDO9LfYCamSJamVM8usr7DCTHpJDbx752dWjfbd3e86ld0JDQqs%2Bi4OIeahSnQm177PN%2Bs7vMI8sqAykVthnL0jsdtAjyOWRDwt7UI%2F4p0CynmukiFc%2F%2BqwwimsgQVxBjsRtylfD73OeBBE%2FGm11qiV7V%2FJ5BRChsc7wWpKRcHoHa488DMuyDMqbQJt9mERRFEbd0FEX5MuVP7s3fcDHYdS48I5w%2BPLN7atQ9Qg%2B09rWEPH79XrpL3%2Bs1swbXlVHWlGRo1mhOYkUN4%2FzWoCcAUgrKICCrAEpwEcgG8BrYTAgpcudhGdMdX4srGsfuK9wh1ko9V64CczGfXZ8FtlDDN%2Fao%2B0UTtPoOD39nhR4mPx8nZWQL84kJ8v5%2FmFzelrcd4cp856uESeXiGdEBc7UJVjrjqKk4UeJn7TXScKbXd68Cdrt1i%2FmjV2wQoGtKq%2F2lUeQi9Ro0jurlRQKa8ssibdtSP0WNCO%2F0QT0u10Ev9nqpJ24Fe9aWRRe4k5YvUK8EjGD%2Fx5ML3zf5m0tFy6p2XippUhfvDttcrAfBxkHcXUiMn9XoRxzEHKYZQaJXKBS6nJkEKzbfmsKZOGgvvXf%2FR%2F8BQ%3D%3D&RelayState=36347 to authenticate...\n"
     ]
    },
    {
     "name": "stderr",
     "output_type": "stream",
     "text": [
      "gio: https://login.microsoftonline.com/fd21b7ac-6a50-45ae-99ea-568c8161f6d0/saml2?SAMLRequest=nZJNc9owEIb%2Fikc9%2BzN8aoAMBULoUEoCpDO9LfYCamSJamVM8usr7DCTHpJDbx752dWjfbd3e86ld0JDQqs%2Bi4OIeahSnQm177PN%2Bs7vMI8sqAykVthnL0jsdtAjyOWRDwt7UI%2F4p0CynmukiFc%2F%2BqwwimsgQVxBjsRtylfD73OeBBE%2FGm11qiV7V%2FJ5BRChsc7wWpKRcHoHa488DMuyDMqbQJt9mERRFEbd0FEX5MuVP7s3fcDHYdS48I5w%2BPLN7atQ9Qg%2B09rWEPH79XrpL3%2Bs1swbXlVHWlGRo1mhOYkUN4%2FzWoCcAUgrKICCrAEpwEcgG8BrYTAgpcudhGdMdX4srGsfuK9wh1ko9V64CczGfXZ8FtlDDN%2Fao%2B0UTtPoOD39nhR4mPx8nZWQL84kJ8v5%2FmFzelrcd4cp856uESeXiGdEBc7UJVjrjqKk4UeJn7TXScKbXd68Cdrt1i%2FmjV2wQoGtKq%2F2lUeQi9Ro0jurlRQKa8ssibdtSP0WNCO%2F0QT0u10Ev9nqpJ24Fe9aWRRe4k5YvUK8EjGD%2Fx5ML3zf5m0tFy6p2XippUhfvDttcrAfBxkHcXUiMn9XoRxzEHKYZQaJXKBS6nJkEKzbfmsKZOGgvvXf%2FR%2F8BQ%3D%3D&RelayState=36347: Operation not supported\n"
     ]
    },
    {
     "name": "stdout",
     "output_type": "stream",
     "text": [
      "\n",
      "Connection Established with the following parameters:\n",
      "User                        : WALEED_ALI\n",
      "Role                        : \"SYSADMIN\"\n",
      "Database                    : \"DEV_ML_WALEED\"\n",
      "Schema                      : \"RAW\"\n",
      "Warehouse                   : \"DEV\"\n",
      "Snowflake version           : 8.8.2\n",
      "Snowpark for Python version : 1.11.1\n"
     ]
    }
   ],
   "source": [
    "# NOTE: Edit the connection.json before creating the session object below\n",
    "# Create Snowflake Session object\n",
    "connection_parameters = json.load(open('connection.json'))\n",
    "session = Session.builder.configs(connection_parameters).create()\n",
    "session.sql_simplifier_enabled = True\n",
    "\n",
    "snowflake_environment = session.sql('SELECT current_user(), current_version()').collect()\n",
    "snowpark_version = VERSION\n",
    "\n",
    "# Current Environment Details\n",
    "print('\\nConnection Established with the following parameters:')\n",
    "print('User                        : {}'.format(snowflake_environment[0][0]))\n",
    "print('Role                        : {}'.format(session.get_current_role()))\n",
    "print('Database                    : {}'.format(session.get_current_database()))\n",
    "print('Schema                      : {}'.format(session.get_current_schema()))\n",
    "print('Warehouse                   : {}'.format(session.get_current_warehouse()))\n",
    "print('Snowflake version           : {}'.format(snowflake_environment[0][1]))\n",
    "print('Snowpark for Python version : {}.{}.{}'.format(snowpark_version[0],snowpark_version[1],snowpark_version[2]))"
   ]
  },
  {
   "cell_type": "markdown",
   "metadata": {},
   "source": [
    "## 1. Sample Data Generation\n",
    "\n",
    "Create a toy dataset with some noise to detect anomalous values. "
   ]
  },
  {
   "cell_type": "code",
   "execution_count": 9,
   "metadata": {},
   "outputs": [],
   "source": [
    "RANDOM_STATE = 2024\n",
    "def sample_ts_data(start, end, freq='H', outlier_frac=0.05, random_state=2024):\n",
    "    \"\"\"\n",
    "    this functions returns a dataframe with three columns: EVENT_TIME, EVENT_VALUE and IS_ANOMALY\n",
    "\n",
    "    Parameters:\n",
    "    ------------------\n",
    "    start: datetime for the start of EVENT_TIME\n",
    "    end: datetime for the end of EVENT_TIME\n",
    "    freq: frequency of EVENT_TIME\n",
    "    outlier_frac: proportion of the data to add as noise\n",
    "    \"\"\"\n",
    "    RANDOM_STATE = random_state\n",
    "\n",
    "    date_range = pd.date_range(start=start, end=end, freq=freq)\n",
    "\n",
    "    # Create some fake data\n",
    "    data = np.random.normal(loc=10, scale=1, size=len(date_range))\n",
    "\n",
    "    # Create a dataframe and add fake data\n",
    "    col = 'event_value'\n",
    "    df = pd.DataFrame(index=[d.to_pydatetime() for d in date_range], columns=[col])\n",
    "    df[col] = data\n",
    "\n",
    "    \n",
    "    # add some anomalies to the data\n",
    "    n_outliers = int(len(date_range) * outlier_frac)\n",
    "    # print(n_outliers)\n",
    "\n",
    "    out_idx = df.sample(n_outliers, random_state=RANDOM_STATE).index\n",
    "\n",
    "    outliers = np.random.normal(loc=20, scale=2, size=n_outliers)\n",
    "\n",
    "    df.loc[out_idx, col] = outliers\n",
    "\n",
    "    # using isolation forest notation of 1 for inliers, -1 for outliers\n",
    "    df['is_anomaly'] = 1\n",
    "    df.loc[out_idx, 'is_anomaly'] = -1\n",
    "\n",
    "    df = df.reset_index().rename(columns={'index': 'event_time'})\n",
    "\n",
    "    df.columns = [col.upper() for col in df.columns]\n",
    "    return df"
   ]
  },
  {
   "cell_type": "code",
   "execution_count": 92,
   "metadata": {},
   "outputs": [],
   "source": [
    "s = '2024-02-08 00:00:00'\n",
    "e = '2024-02-13 00:00:00'\n",
    "\n",
    "df = sample_ts_data(s,e)"
   ]
  },
  {
   "cell_type": "code",
   "execution_count": 94,
   "metadata": {},
   "outputs": [
    {
     "data": {
      "text/html": [
       "<div>\n",
       "<style scoped>\n",
       "    .dataframe tbody tr th:only-of-type {\n",
       "        vertical-align: middle;\n",
       "    }\n",
       "\n",
       "    .dataframe tbody tr th {\n",
       "        vertical-align: top;\n",
       "    }\n",
       "\n",
       "    .dataframe thead th {\n",
       "        text-align: right;\n",
       "    }\n",
       "</style>\n",
       "<table border=\"1\" class=\"dataframe\">\n",
       "  <thead>\n",
       "    <tr style=\"text-align: right;\">\n",
       "      <th></th>\n",
       "      <th>EVENT_TIME</th>\n",
       "      <th>EVENT_VALUE</th>\n",
       "      <th>IS_ANOMALY</th>\n",
       "    </tr>\n",
       "  </thead>\n",
       "  <tbody>\n",
       "    <tr>\n",
       "      <th>0</th>\n",
       "      <td>2024-02-08 00:00:00</td>\n",
       "      <td>9.831890</td>\n",
       "      <td>1</td>\n",
       "    </tr>\n",
       "    <tr>\n",
       "      <th>1</th>\n",
       "      <td>2024-02-08 01:00:00</td>\n",
       "      <td>10.744412</td>\n",
       "      <td>1</td>\n",
       "    </tr>\n",
       "    <tr>\n",
       "      <th>2</th>\n",
       "      <td>2024-02-08 02:00:00</td>\n",
       "      <td>9.754194</td>\n",
       "      <td>1</td>\n",
       "    </tr>\n",
       "    <tr>\n",
       "      <th>3</th>\n",
       "      <td>2024-02-08 03:00:00</td>\n",
       "      <td>9.678135</td>\n",
       "      <td>1</td>\n",
       "    </tr>\n",
       "    <tr>\n",
       "      <th>4</th>\n",
       "      <td>2024-02-08 04:00:00</td>\n",
       "      <td>11.138309</td>\n",
       "      <td>1</td>\n",
       "    </tr>\n",
       "  </tbody>\n",
       "</table>\n",
       "</div>"
      ],
      "text/plain": [
       "           EVENT_TIME  EVENT_VALUE  IS_ANOMALY\n",
       "0 2024-02-08 00:00:00     9.831890           1\n",
       "1 2024-02-08 01:00:00    10.744412           1\n",
       "2 2024-02-08 02:00:00     9.754194           1\n",
       "3 2024-02-08 03:00:00     9.678135           1\n",
       "4 2024-02-08 04:00:00    11.138309           1"
      ]
     },
     "execution_count": 94,
     "metadata": {},
     "output_type": "execute_result"
    }
   ],
   "source": [
    "df.head(5)"
   ]
  },
  {
   "cell_type": "code",
   "execution_count": 95,
   "metadata": {},
   "outputs": [
    {
     "data": {
      "text/plain": [
       "17     20.828356\n",
       "32     17.641362\n",
       "50     19.729686\n",
       "85     20.358684\n",
       "101    20.354552\n",
       "116    18.406266\n",
       "Name: EVENT_VALUE, dtype: float64"
      ]
     },
     "execution_count": 95,
     "metadata": {},
     "output_type": "execute_result"
    }
   ],
   "source": [
    "df.query(\"IS_ANOMALY == -1\")['EVENT_VALUE']"
   ]
  },
  {
   "cell_type": "code",
   "execution_count": 96,
   "metadata": {},
   "outputs": [],
   "source": [
    "et = 'EVENT_TIME'\n",
    "ev = 'EVENT_VALUE'"
   ]
  },
  {
   "cell_type": "code",
   "execution_count": 97,
   "metadata": {},
   "outputs": [
    {
     "data": {
      "text/plain": [
       "<matplotlib.legend.Legend at 0x7efc2994b650>"
      ]
     },
     "execution_count": 97,
     "metadata": {},
     "output_type": "execute_result"
    },
    {
     "data": {
      "image/png": "[encoded data removed]",
      "text/plain": [
       "<Figure size 1200x800 with 1 Axes>"
      ]
     },
     "metadata": {},
     "output_type": "display_data"
    }
   ],
   "source": [
    "# Visualise data\n",
    "ax = df.plot(figsize=(12,8), label='normal', y=ev, x=et)\n",
    "df.query(\"IS_ANOMALY == -1\").plot(ax=ax, label='anomaly',y=ev, x=et, color='red', marker='o', ls='')\n",
    "ax.legend()"
   ]
  },
  {
   "cell_type": "markdown",
   "metadata": {},
   "source": [
    "### 1.2 Upload data to a Snowflake table"
   ]
  },
  {
   "cell_type": "code",
   "execution_count": 98,
   "metadata": {},
   "outputs": [
    {
     "name": "stderr",
     "output_type": "stream",
     "text": [
      "ERROR:snowflake.connector.ocsp_snowflake:WARNING!!! Using fail-open to connect. Driver is connecting to an HTTPS endpoint without OCSP based Certificate Revocation checking as it could not obtain a valid OCSP Response to use from the CA OCSP responder. Details: \n",
      " {'driver': 'PythonConnector', 'version': '3.7.0', 'eventType': 'RevocationCheckFailure', 'eventSubType': 'OCSPResponseExpired', 'sfcPeerHost': 'kfrmojsfcb1stg.blob.core.windows.net', 'certId': 'MEowBwYFKw4DAhoEFFIe42xHgRmpywP6t05X4Rl68YGLBBS1dgwwEc7HkkJNTMdcLMipDOgLZAITSwAzDOXP8IzvnAOYPQAAADMM5Q==', 'ocspRequestBase64': 'MFIwUDBOMEwwSjAHBgUrDgMCGgQUUh7jbEeBGanLA/q3TlfhGXrxgYsEFLV2DDARzseSQk1Mx1wsyKkM6AtkAhNLADMM5c/wjO+cA5g9AAAAMwzl', 'ocspResponderURL': 'http://ocsp.msocsp.com', 'errorMessage': '254013: Response is unreliable. Its validity date is out of range: current_time=2024-02-26 18:10:24Z, this_update=2024-02-27 06:20:18Z, next_update=2024-03-02 06:20:17Z, tolerable next_update=2024-03-02 07:17:52Z. A potential cause is client clock is skewed, CA fails to update OCSP response in time. Consider running curl -o ocsp.der http://ocsp.msocsp.com/MFIwUDBOMEwwSjAHBgUrDgMCGgQUUh7jbEeBGanLA/q3TlfhGXrxgYsEFLV2DDARzseSQk1Mx1wsyKkM6AtkAhNLADMM5c/wjO+cA5g9AAAAMwzl', 'insecureMode': False, 'failOpen': True, 'cacheEnabled': True, 'cacheHit': False}\n"
     ]
    },
    {
     "data": {
      "text/plain": [
       "<snowflake.snowpark.table.Table at 0x7efc5e55ef50>"
      ]
     },
     "execution_count": 98,
     "metadata": {},
     "output_type": "execute_result"
    }
   ],
   "source": [
    "TABLE_NAME = 'TIMESERIES'\n",
    "session.write_pandas(df, TABLE_NAME, auto_create_table=True, overwrite=True, use_logical_type=True)"
   ]
  },
  {
   "cell_type": "code",
   "execution_count": 17,
   "metadata": {},
   "outputs": [
    {
     "name": "stdout",
     "output_type": "stream",
     "text": [
      "\"DEV_ML_WALEED\".\"RAW\".TIMESERIES\n"
     ]
    }
   ],
   "source": [
    "input_tbl = f\"{session.get_current_database()}.{session.get_current_schema()}.{TABLE_NAME}\"\n",
    "print(input_tbl)"
   ]
  },
  {
   "cell_type": "code",
   "execution_count": 18,
   "metadata": {},
   "outputs": [],
   "source": [
    "# Read in the data from a Snowflake table into a Snowpark DataFrame\n",
    "df = session.table(input_tbl)"
   ]
  },
  {
   "cell_type": "code",
   "execution_count": 19,
   "metadata": {},
   "outputs": [
    {
     "name": "stdout",
     "output_type": "stream",
     "text": [
      "-----------------------------------------------------------\n",
      "|\"EVENT_TIME\"         |\"EVENT_VALUE\"       |\"IS_ANOMALY\"  |\n",
      "-----------------------------------------------------------\n",
      "|2024-02-08 00:00:00  |10.665875842123747  |1             |\n",
      "|2024-02-08 01:00:00  |10.04333664489181   |1             |\n",
      "|2024-02-08 02:00:00  |9.792750232887302   |1             |\n",
      "|2024-02-08 03:00:00  |9.188637077009224   |1             |\n",
      "|2024-02-08 04:00:00  |8.558264829355837   |1             |\n",
      "|2024-02-08 05:00:00  |9.50455333572502    |1             |\n",
      "|2024-02-08 06:00:00  |9.237881538604768   |1             |\n",
      "|2024-02-08 07:00:00  |8.996089245800553   |1             |\n",
      "|2024-02-08 08:00:00  |11.054248843210978  |1             |\n",
      "|2024-02-08 09:00:00  |8.174132317111203   |1             |\n",
      "-----------------------------------------------------------\n",
      "\n"
     ]
    }
   ],
   "source": [
    "df.show()"
   ]
  },
  {
   "cell_type": "code",
   "execution_count": 20,
   "metadata": {},
   "outputs": [
    {
     "data": {
      "text/plain": [
       "snowflake.snowpark.table.Table"
      ]
     },
     "execution_count": 20,
     "metadata": {},
     "output_type": "execute_result"
    }
   ],
   "source": [
    "type(df)"
   ]
  },
  {
   "cell_type": "code",
   "execution_count": 21,
   "metadata": {},
   "outputs": [
    {
     "name": "stdout",
     "output_type": "stream",
     "text": [
      "StructType([StructField('EVENT_TIME', TimestampType(tz=ntz), nullable=True), StructField('EVENT_VALUE', DoubleType(), nullable=True), StructField('IS_ANOMALY', LongType(), nullable=True)])\n"
     ]
    }
   ],
   "source": [
    "print(df.schema)"
   ]
  },
  {
   "cell_type": "markdown",
   "metadata": {},
   "source": [
    "## 2. Model Training"
   ]
  },
  {
   "cell_type": "code",
   "execution_count": 22,
   "metadata": {},
   "outputs": [],
   "source": [
    "from snowflake.ml.modeling.preprocessing import StandardScaler\n",
    "from snowflake.ml.modeling.pipeline import Pipeline\n",
    "from snowflake.ml.modeling.ensemble import IsolationForest\n",
    "from snowflake.snowpark.functions import col\n",
    "from snowflake.ml.modeling.metrics import accuracy_score, confusion_matrix"
   ]
  },
  {
   "cell_type": "markdown",
   "metadata": {},
   "source": [
    "### 2.1 Pre-processing \n",
    "Scale the data as part of data processing"
   ]
  },
  {
   "cell_type": "code",
   "execution_count": 23,
   "metadata": {},
   "outputs": [],
   "source": [
    "input_col = 'EVENT_VALUE'\n",
    "output_col = 'X_SCALED'\n",
    "\n",
    "preprocessing_pipeline = Pipeline(\n",
    "    steps=[\n",
    "            (\n",
    "                \"OE\",\n",
    "                StandardScaler(\n",
    "                    input_cols=input_col,\n",
    "                    output_cols=output_col,\n",
    "                    passthrough_cols = ['EVENT_TIME', 'IS_ANOMALY']\n",
    "                )\n",
    "            ),\n",
    "    ]\n",
    ")"
   ]
  },
  {
   "cell_type": "code",
   "execution_count": 115,
   "metadata": {},
   "outputs": [
    {
     "name": "stderr",
     "output_type": "stream",
     "text": [
      "ERROR:snowflake.connector.ocsp_snowflake:WARNING!!! Using fail-open to connect. Driver is connecting to an HTTPS endpoint without OCSP based Certificate Revocation checking as it could not obtain a valid OCSP Response to use from the CA OCSP responder. Details: \n",
      " {'driver': 'PythonConnector', 'version': '3.7.0', 'eventType': 'RevocationCheckFailure', 'eventSubType': 'OCSPResponseExpired', 'sfcPeerHost': 'kfrmojsfcb1stg.blob.core.windows.net', 'certId': 'MEowBwYFKw4DAhoEFFIe42xHgRmpywP6t05X4Rl68YGLBBS1dgwwEc7HkkJNTMdcLMipDOgLZAITSwAzDOXP8IzvnAOYPQAAADMM5Q==', 'ocspRequestBase64': 'MFIwUDBOMEwwSjAHBgUrDgMCGgQUUh7jbEeBGanLA/q3TlfhGXrxgYsEFLV2DDARzseSQk1Mx1wsyKkM6AtkAhNLADMM5c/wjO+cA5g9AAAAMwzl', 'ocspResponderURL': 'http://ocsp.msocsp.com', 'errorMessage': '254013: Response is unreliable. Its validity date is out of range: current_time=2024-02-26 19:05:36Z, this_update=2024-02-27 06:20:18Z, next_update=2024-03-02 06:20:17Z, tolerable next_update=2024-03-02 07:17:52Z. A potential cause is client clock is skewed, CA fails to update OCSP response in time. Consider running curl -o ocsp.der http://ocsp.msocsp.com/MFIwUDBOMEwwSjAHBgUrDgMCGgQUUh7jbEeBGanLA/q3TlfhGXrxgYsEFLV2DDARzseSQk1Mx1wsyKkM6AtkAhNLADMM5c/wjO+cA5g9AAAAMwzl', 'insecureMode': False, 'failOpen': True, 'cacheEnabled': True, 'cacheHit': False}\n"
     ]
    },
    {
     "data": {
      "text/plain": [
       "[PutResult(source='preprocessing_pipeline.joblib', target='preprocessing_pipeline.joblib.gz', source_size=1368, target_size=960, source_compression='NONE', target_compression='GZIP', status='UPLOADED', message='')]"
      ]
     },
     "execution_count": 115,
     "metadata": {},
     "output_type": "execute_result"
    }
   ],
   "source": [
    "PIPELINE_FILE = 'preprocessing_pipeline.joblib'\n",
    "joblib.dump(preprocessing_pipeline, PIPELINE_FILE) # We are just pickling it locally first\n",
    "# Save pipeline in the stage created during the setup step in snowflake\n",
    "session.file.put(PIPELINE_FILE, \"@ML_ASSETS\", overwrite=True)"
   ]
  },
  {
   "cell_type": "code",
   "execution_count": 24,
   "metadata": {},
   "outputs": [],
   "source": [
    "# Split the data into train and test sets\n",
    "# TODO: use stratified sampling (not available in snowparkML)\n",
    "train_df, test_df = df.select(col(input_col), col(\"IS_ANOMALY\")).random_split(weights=[0.9, 0.1], seed=2024) \n",
    "\n",
    "# Run the train and test sets through the Pipeline object we defined earlier\n",
    "train_df = preprocessing_pipeline.fit(train_df).transform(train_df)\n",
    "test_df = preprocessing_pipeline.transform(test_df)"
   ]
  },
  {
   "cell_type": "code",
   "execution_count": 25,
   "metadata": {},
   "outputs": [
    {
     "name": "stdout",
     "output_type": "stream",
     "text": [
      "------------------------------------------------------------\n",
      "|\"X_SCALED\"            |\"EVENT_VALUE\"       |\"IS_ANOMALY\"  |\n",
      "------------------------------------------------------------\n",
      "|0.06689493914320281   |10.665875842123747  |1             |\n",
      "|-0.17168540898136472  |10.04333664489181   |1             |\n",
      "|-0.2677195120180089   |9.792750232887302   |1             |\n",
      "|-0.4992383106364439   |9.188637077009224   |1             |\n",
      "|-0.3781673623045835   |9.50455333572502    |1             |\n",
      "|-0.4803659876680083   |9.237881538604768   |1             |\n",
      "|-0.5730298546944805   |8.996089245800553   |1             |\n",
      "|0.21573402624578306   |11.054248843210978  |1             |\n",
      "|-0.8880345500808242   |8.174132317111203   |1             |\n",
      "|-0.3280449390575307   |9.635340189616473   |1             |\n",
      "------------------------------------------------------------\n",
      "\n"
     ]
    }
   ],
   "source": [
    "train_df.show()"
   ]
  },
  {
   "cell_type": "code",
   "execution_count": 26,
   "metadata": {},
   "outputs": [
    {
     "name": "stdout",
     "output_type": "stream",
     "text": [
      "------------------------------------------------------------\n",
      "|\"X_SCALED\"            |\"EVENT_VALUE\"       |\"IS_ANOMALY\"  |\n",
      "------------------------------------------------------------\n",
      "|-0.740820577202029    |8.558264829355837   |1             |\n",
      "|-0.3845151141792127   |9.48798984092202    |1             |\n",
      "|-0.1030303381221727   |10.222481629105964  |1             |\n",
      "|0.21878823895195493   |11.062218347578048  |1             |\n",
      "|-0.44518223684574454  |9.32968819478864    |1             |\n",
      "|-0.7018289941958422   |8.66000744551968    |1             |\n",
      "|0.05224736957394741   |10.62765523312253   |1             |\n",
      "|-0.16392989829709662  |10.063573472583029  |1             |\n",
      "|0.12798654629710668   |10.825285116081814  |1             |\n",
      "|-0.19552817495454278  |9.981122566886603   |1             |\n",
      "------------------------------------------------------------\n",
      "\n"
     ]
    }
   ],
   "source": [
    "test_df.show()"
   ]
  },
  {
   "cell_type": "markdown",
   "metadata": {},
   "source": [
    "### 2.2 Model Building"
   ]
  },
  {
   "cell_type": "code",
   "execution_count": 27,
   "metadata": {},
   "outputs": [
    {
     "name": "stderr",
     "output_type": "stream",
     "text": [
      "The version of package 'xgboost' in the local environment is 1.7.6, which does not fit the criteria for the requirement 'xgboost==1.7.3'. Your UDF might not work when the package version is different between the server and your local environment.\n"
     ]
    },
    {
     "data": {
      "text/plain": [
       "<snowflake.ml.modeling.ensemble.isolation_forest.IsolationForest at 0x7efc4e809310>"
      ]
     },
     "execution_count": 27,
     "metadata": {},
     "output_type": "execute_result"
    }
   ],
   "source": [
    "model = IsolationForest(input_cols=output_col, output_cols='PRED_IS_ANOMALY', contamination=0.05)\n",
    "\n",
    "model.fit(train_df)\n",
    "\n",
    "# result = model.predict(test_df)"
   ]
  },
  {
   "cell_type": "code",
   "execution_count": 28,
   "metadata": {},
   "outputs": [
    {
     "name": "stdout",
     "output_type": "stream",
     "text": [
      "--------------------------------------------------------------------------------\n",
      "|\"X_SCALED\"            |\"EVENT_VALUE\"       |\"IS_ANOMALY\"  |\"PRED_IS_ANOMALY\"  |\n",
      "--------------------------------------------------------------------------------\n",
      "|-0.740820577202029    |8.558264829355837   |1             |1                  |\n",
      "|-0.3845151141792127   |9.48798984092202    |1             |1                  |\n",
      "|-0.1030303381221727   |10.222481629105964  |1             |1                  |\n",
      "|0.21878823895195493   |11.062218347578048  |1             |1                  |\n",
      "|-0.44518223684574454  |9.32968819478864    |1             |1                  |\n",
      "|-0.7018289941958422   |8.66000744551968    |1             |1                  |\n",
      "|0.05224736957394741   |10.62765523312253   |1             |1                  |\n",
      "|-0.16392989829709662  |10.063573472583029  |1             |1                  |\n",
      "|0.12798654629710668   |10.825285116081814  |1             |1                  |\n",
      "|-0.19552817495454278  |9.981122566886603   |1             |1                  |\n",
      "--------------------------------------------------------------------------------\n",
      "\n"
     ]
    }
   ],
   "source": [
    "result = model.predict(test_df)\n",
    "result.show()"
   ]
  },
  {
   "cell_type": "code",
   "execution_count": 34,
   "metadata": {},
   "outputs": [
    {
     "name": "stdout",
     "output_type": "stream",
     "text": [
      "Accuracy = 90.9%\n"
     ]
    }
   ],
   "source": [
    "acc = accuracy_score(df=result, y_true_col_names='IS_ANOMALY', y_pred_col_names='PRED_IS_ANOMALY')\n",
    "print(f\"Accuracy = {acc*100:.1f}%\")"
   ]
  },
  {
   "cell_type": "code",
   "execution_count": 41,
   "metadata": {},
   "outputs": [
    {
     "data": {
      "text/plain": [
       "'DEV_ML_WALEED'"
      ]
     },
     "execution_count": 41,
     "metadata": {},
     "output_type": "execute_result"
    }
   ],
   "source": [
    "identifier._get_unescaped_name(session.get_current_database())"
   ]
  },
  {
   "cell_type": "markdown",
   "metadata": {},
   "source": [
    "## 3. Save model to registry"
   ]
  },
  {
   "cell_type": "code",
   "execution_count": 43,
   "metadata": {},
   "outputs": [
    {
     "name": "stderr",
     "output_type": "stream",
     "text": [
      "/home/aliw/miniconda3/envs/snowpark-ml-dq/lib/python3.11/site-packages/snowflake/ml/model/_packager/model_packager.py:91: UserWarning: Inferring model signature from sample input or providing model signature for Snowpark ML Modeling model is not required. Model signature will automatically be inferred during fitting. \n",
      "  handler.save_model(\n",
      "ERROR:snowflake.connector.ocsp_snowflake:WARNING!!! Using fail-open to connect. Driver is connecting to an HTTPS endpoint without OCSP based Certificate Revocation checking as it could not obtain a valid OCSP Response to use from the CA OCSP responder. Details: \n",
      " {'driver': 'PythonConnector', 'version': '3.7.0', 'eventType': 'RevocationCheckFailure', 'eventSubType': 'OCSPResponseExpired', 'sfcPeerHost': 'kfrmojsfcb1stg.blob.core.windows.net', 'certId': 'MEowBwYFKw4DAhoEFFIe42xHgRmpywP6t05X4Rl68YGLBBS1dgwwEc7HkkJNTMdcLMipDOgLZAITSwAzDOXP8IzvnAOYPQAAADMM5Q==', 'ocspRequestBase64': 'MFIwUDBOMEwwSjAHBgUrDgMCGgQUUh7jbEeBGanLA/q3TlfhGXrxgYsEFLV2DDARzseSQk1Mx1wsyKkM6AtkAhNLADMM5c/wjO+cA5g9AAAAMwzl', 'ocspResponderURL': 'http://ocsp.msocsp.com', 'errorMessage': '254013: Response is unreliable. Its validity date is out of range: current_time=2024-02-26 17:01:18Z, this_update=2024-02-27 05:01:13Z, next_update=2024-03-02 05:01:12Z, tolerable next_update=2024-03-02 05:58:47Z. A potential cause is client clock is skewed, CA fails to update OCSP response in time. Consider running curl -o ocsp.der http://ocsp.msocsp.com/MFIwUDBOMEwwSjAHBgUrDgMCGgQUUh7jbEeBGanLA/q3TlfhGXrxgYsEFLV2DDARzseSQk1Mx1wsyKkM6AtkAhNLADMM5c/wjO+cA5g9AAAAMwzl', 'insecureMode': False, 'failOpen': True, 'cacheEnabled': True, 'cacheHit': False}\n"
     ]
    }
   ],
   "source": [
    "# Save model \n",
    "# Get sample input data to pass into the registry logging function\n",
    "X = train_df.limit(100)\n",
    "\n",
    "db = identifier._get_unescaped_name(session.get_current_database())\n",
    "schema = identifier._get_unescaped_name(session.get_current_schema())\n",
    "\n",
    "# Define model name\n",
    "model_name = \"ANOMALY_DETECTION_ISOLATION_FOREST\"\n",
    "\n",
    "# Create a registry and log the model\n",
    "native_registry = registry.Registry(session=session, database_name=db, schema_name=schema)\n",
    "\n",
    "# Let's first log the very first model we trained\n",
    "model_ver = native_registry.log_model(\n",
    "    model_name=model_name,\n",
    "    version_name='V0',\n",
    "    model=model,\n",
    "    sample_input_data=X, # to provide the feature schema\n",
    ")\n",
    "\n",
    "# Add evaluation metric\n",
    "model_ver.set_metric(metric_name=\"accuracy\", value=acc)\n",
    "\n",
    "# Add a description\n",
    "model_ver.comment = \"This is the first iteration of our Anomaly Detection model using Isolation Forests. It is used for demo purposes.\"\n"
   ]
  },
  {
   "cell_type": "code",
   "execution_count": 44,
   "metadata": {},
   "outputs": [
    {
     "data": {
      "text/html": [
       "<div>\n",
       "<style scoped>\n",
       "    .dataframe tbody tr th:only-of-type {\n",
       "        vertical-align: middle;\n",
       "    }\n",
       "\n",
       "    .dataframe tbody tr th {\n",
       "        vertical-align: top;\n",
       "    }\n",
       "\n",
       "    .dataframe thead th {\n",
       "        text-align: right;\n",
       "    }\n",
       "</style>\n",
       "<table border=\"1\" class=\"dataframe\">\n",
       "  <thead>\n",
       "    <tr style=\"text-align: right;\">\n",
       "      <th></th>\n",
       "      <th>created_on</th>\n",
       "      <th>name</th>\n",
       "      <th>comment</th>\n",
       "      <th>database_name</th>\n",
       "      <th>schema_name</th>\n",
       "      <th>module_name</th>\n",
       "      <th>is_default_version</th>\n",
       "      <th>functions</th>\n",
       "      <th>metadata</th>\n",
       "      <th>user_data</th>\n",
       "    </tr>\n",
       "  </thead>\n",
       "  <tbody>\n",
       "    <tr>\n",
       "      <th>0</th>\n",
       "      <td>2024-02-27 16:17:05.497000+11:00</td>\n",
       "      <td>V0</td>\n",
       "      <td>This is the first iteration of our Anomaly Det...</td>\n",
       "      <td>DEV_ML_WALEED</td>\n",
       "      <td>RAW</td>\n",
       "      <td>ANOMALY_DETECTION_ISOLATION_FOREST</td>\n",
       "      <td>true</td>\n",
       "      <td>[\"PREDICT\",\"DECISION_FUNCTION\"]</td>\n",
       "      <td>{\"metrics\": {\"accuracy\": 0.909091}, \"snowpark_...</td>\n",
       "      <td>{\"snowpark_ml_data\":{\"functions\":[{\"name\":\"PRE...</td>\n",
       "    </tr>\n",
       "  </tbody>\n",
       "</table>\n",
       "</div>"
      ],
      "text/plain": [
       "                        created_on name  \\\n",
       "0 2024-02-27 16:17:05.497000+11:00   V0   \n",
       "\n",
       "                                             comment  database_name  \\\n",
       "0  This is the first iteration of our Anomaly Det...  DEV_ML_WALEED   \n",
       "\n",
       "  schema_name                         module_name is_default_version  \\\n",
       "0         RAW  ANOMALY_DETECTION_ISOLATION_FOREST               true   \n",
       "\n",
       "                         functions  \\\n",
       "0  [\"PREDICT\",\"DECISION_FUNCTION\"]   \n",
       "\n",
       "                                            metadata  \\\n",
       "0  {\"metrics\": {\"accuracy\": 0.909091}, \"snowpark_...   \n",
       "\n",
       "                                           user_data  \n",
       "0  {\"snowpark_ml_data\":{\"functions\":[{\"name\":\"PRE...  "
      ]
     },
     "execution_count": 44,
     "metadata": {},
     "output_type": "execute_result"
    }
   ],
   "source": [
    "# Let's confirm they were added\n",
    "native_registry.get_model(model_name).show_versions()"
   ]
  },
  {
   "cell_type": "code",
   "execution_count": 47,
   "metadata": {},
   "outputs": [
    {
     "name": "stdout",
     "output_type": "stream",
     "text": [
      "--------------------------------------------------------------------------------\n",
      "|\"EVENT_VALUE\"       |\"IS_ANOMALY\"  |\"X_SCALED\"            |\"PRED_IS_ANOMALY\"  |\n",
      "--------------------------------------------------------------------------------\n",
      "|8.558264829355837   |1             |-0.740820577202029    |1                  |\n",
      "|9.48798984092202    |1             |-0.3845151141792127   |1                  |\n",
      "|10.222481629105964  |1             |-0.1030303381221727   |1                  |\n",
      "|11.062218347578048  |1             |0.21878823895195493   |1                  |\n",
      "|9.32968819478864    |1             |-0.44518223684574454  |1                  |\n",
      "|8.66000744551968    |1             |-0.7018289941958422   |1                  |\n",
      "|10.62765523312253   |1             |0.05224736957394741   |1                  |\n",
      "|10.063573472583029  |1             |-0.16392989829709662  |1                  |\n",
      "|10.825285116081814  |1             |0.12798654629710668   |1                  |\n",
      "|9.981122566886603   |1             |-0.1955281749545428   |1                  |\n",
      "--------------------------------------------------------------------------------\n",
      "\n"
     ]
    }
   ],
   "source": [
    "# test running model on data\n",
    "model_ver = native_registry.get_model(model_name).version('v0')\n",
    "result_sdf2 = model_ver.run(test_df, function_name=\"predict\")\n",
    "result_sdf2.show()"
   ]
  }
 ],
 "metadata": {
  "kernelspec": {
   "display_name": "snowpark-ml-dq",
   "language": "python",
   "name": "python3"
  },
  "language_info": {
   "codemirror_mode": {
    "name": "ipython",
    "version": 3
   },
   "file_extension": ".py",
   "mimetype": "text/x-python",
   "name": "python",
   "nbconvert_exporter": "python",
   "pygments_lexer": "ipython3",
   "version": "3.11.7"
  }
 },
 "nbformat": 4,
 "nbformat_minor": 2
}
